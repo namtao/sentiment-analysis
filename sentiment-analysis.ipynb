{
 "cells": [
  {
   "cell_type": "markdown",
   "metadata": {},
   "source": [
    "# Sentiment Analysis"
   ]
  },
  {
   "cell_type": "code",
   "execution_count": 51,
   "metadata": {},
   "outputs": [
    {
     "name": "stderr",
     "output_type": "stream",
     "text": [
      "Downloading...\n",
      "From: https://drive.google.com/uc?id=1v36q7Efz0mprjAv4g6TkQM2YlDKdqOuy\n",
      "To: c:\\Project\\AI VIET NAM\\sentiment-analysis\\IMDB-Dataset.csv\n",
      "\n",
      "  0%|          | 0.00/66.2M [00:00<?, ?B/s]\n",
      "  1%|          | 524k/66.2M [00:00<01:56, 566kB/s]\n",
      "  2%|▏         | 1.05M/66.2M [00:01<01:31, 716kB/s]\n",
      "  2%|▏         | 1.57M/66.2M [00:02<01:25, 757kB/s]\n",
      "  3%|▎         | 2.10M/66.2M [00:02<01:19, 811kB/s]\n",
      "  4%|▍         | 2.62M/66.2M [00:03<01:11, 894kB/s]\n",
      "  5%|▍         | 3.15M/66.2M [00:03<01:09, 911kB/s]\n",
      "  6%|▌         | 3.67M/66.2M [00:04<01:05, 952kB/s]\n",
      "  6%|▋         | 4.19M/66.2M [00:04<01:08, 902kB/s]\n",
      "  7%|▋         | 4.72M/66.2M [00:05<01:06, 924kB/s]\n",
      "  8%|▊         | 5.24M/66.2M [00:06<01:06, 919kB/s]\n",
      "  9%|▊         | 5.77M/66.2M [00:06<01:05, 917kB/s]\n",
      " 10%|▉         | 6.29M/66.2M [00:07<01:21, 733kB/s]\n",
      " 10%|█         | 6.82M/66.2M [00:08<01:20, 742kB/s]\n",
      " 11%|█         | 7.34M/66.2M [00:09<01:19, 739kB/s]\n",
      " 12%|█▏        | 7.86M/66.2M [00:09<01:15, 769kB/s]\n",
      " 13%|█▎        | 8.39M/66.2M [00:10<01:12, 799kB/s]\n",
      " 13%|█▎        | 8.91M/66.2M [00:10<01:10, 815kB/s]\n",
      " 14%|█▍        | 9.44M/66.2M [00:11<01:24, 668kB/s]\n",
      " 15%|█▌        | 9.96M/66.2M [00:12<01:24, 668kB/s]\n",
      " 16%|█▌        | 10.5M/66.2M [00:13<01:24, 662kB/s]\n",
      " 17%|█▋        | 11.0M/66.2M [00:14<01:16, 722kB/s]\n",
      " 17%|█▋        | 11.5M/66.2M [00:14<01:05, 833kB/s]\n",
      " 18%|█▊        | 12.1M/66.2M [00:14<00:57, 947kB/s]\n",
      " 19%|█▉        | 12.6M/66.2M [00:15<00:48, 1.10MB/s]\n",
      " 20%|█▉        | 13.1M/66.2M [00:16<01:18, 679kB/s] \n",
      " 21%|██        | 13.6M/66.2M [00:17<01:15, 692kB/s]\n",
      " 21%|██▏       | 14.2M/66.2M [00:17<01:01, 843kB/s]\n",
      " 22%|██▏       | 14.7M/66.2M [00:18<00:55, 933kB/s]\n",
      " 23%|██▎       | 15.2M/66.2M [00:18<00:59, 852kB/s]\n",
      " 24%|██▍       | 15.7M/66.2M [00:19<00:51, 986kB/s]\n",
      " 25%|██▍       | 16.3M/66.2M [00:19<00:49, 1.01MB/s]\n",
      " 25%|██▌       | 16.8M/66.2M [00:20<00:45, 1.10MB/s]\n",
      " 26%|██▌       | 17.3M/66.2M [00:20<00:37, 1.29MB/s]\n",
      " 27%|██▋       | 17.8M/66.2M [00:20<00:34, 1.40MB/s]\n",
      " 28%|██▊       | 18.4M/66.2M [00:20<00:31, 1.52MB/s]\n",
      " 29%|██▊       | 18.9M/66.2M [00:21<00:33, 1.42MB/s]\n",
      " 29%|██▉       | 19.4M/66.2M [00:21<00:34, 1.35MB/s]\n",
      " 30%|███       | 19.9M/66.2M [00:23<01:05, 708kB/s] \n",
      " 31%|███       | 20.4M/66.2M [00:23<00:49, 932kB/s]\n",
      " 32%|███▏      | 21.0M/66.2M [00:24<00:55, 819kB/s]\n",
      " 32%|███▏      | 21.5M/66.2M [00:24<00:44, 996kB/s]\n",
      " 33%|███▎      | 22.0M/66.2M [00:25<00:44, 1.00MB/s]\n",
      " 34%|███▍      | 22.5M/66.2M [00:25<00:45, 967kB/s] \n",
      " 35%|███▍      | 23.1M/66.2M [00:26<00:41, 1.03MB/s]\n",
      " 36%|███▌      | 23.6M/66.2M [00:26<00:37, 1.12MB/s]\n",
      " 36%|███▋      | 24.1M/66.2M [00:27<00:44, 947kB/s] \n",
      " 37%|███▋      | 24.6M/66.2M [00:27<00:33, 1.23MB/s]\n",
      " 38%|███▊      | 25.2M/66.2M [00:27<00:33, 1.24MB/s]\n",
      " 39%|███▉      | 25.7M/66.2M [00:27<00:26, 1.50MB/s]\n",
      " 40%|███▉      | 26.2M/66.2M [00:28<00:26, 1.53MB/s]\n",
      " 40%|████      | 26.7M/66.2M [00:28<00:22, 1.78MB/s]\n",
      " 41%|████      | 27.3M/66.2M [00:28<00:21, 1.80MB/s]\n",
      " 42%|████▏     | 27.8M/66.2M [00:28<00:17, 2.20MB/s]\n",
      " 43%|████▎     | 28.3M/66.2M [00:29<00:19, 1.93MB/s]\n",
      " 44%|████▎     | 28.8M/66.2M [00:29<00:17, 2.12MB/s]\n",
      " 44%|████▍     | 29.4M/66.2M [00:29<00:16, 2.18MB/s]\n",
      " 45%|████▌     | 29.9M/66.2M [00:29<00:15, 2.33MB/s]\n",
      " 46%|████▌     | 30.4M/66.2M [00:29<00:13, 2.64MB/s]\n",
      " 47%|████▋     | 30.9M/66.2M [00:30<00:20, 1.72MB/s]\n",
      " 48%|████▊     | 31.5M/66.2M [00:30<00:20, 1.66MB/s]\n",
      " 48%|████▊     | 32.0M/66.2M [00:31<00:18, 1.86MB/s]\n",
      " 49%|████▉     | 32.5M/66.2M [00:31<00:15, 2.14MB/s]\n",
      " 50%|████▉     | 33.0M/66.2M [00:31<00:17, 1.90MB/s]\n",
      " 51%|█████▏    | 34.1M/66.2M [00:31<00:13, 2.43MB/s]\n",
      " 52%|█████▏    | 34.6M/66.2M [00:32<00:13, 2.33MB/s]\n",
      " 54%|█████▍    | 35.7M/66.2M [00:32<00:10, 2.79MB/s]\n",
      " 55%|█████▍    | 36.2M/66.2M [00:32<00:15, 1.94MB/s]\n",
      " 55%|█████▌    | 36.7M/66.2M [00:33<00:13, 2.16MB/s]\n",
      " 56%|█████▌    | 37.2M/66.2M [00:33<00:13, 2.18MB/s]\n",
      " 57%|█████▋    | 37.7M/66.2M [00:33<00:13, 2.14MB/s]\n",
      " 59%|█████▊    | 38.8M/66.2M [00:34<00:13, 1.97MB/s]\n",
      " 60%|██████    | 39.8M/66.2M [00:34<00:13, 1.95MB/s]\n",
      " 62%|██████▏   | 40.9M/66.2M [00:34<00:10, 2.51MB/s]\n",
      " 63%|██████▎   | 41.4M/66.2M [00:35<00:11, 2.10MB/s]\n",
      " 64%|██████▍   | 42.5M/66.2M [00:35<00:10, 2.25MB/s]\n",
      " 65%|██████▍   | 43.0M/66.2M [00:35<00:10, 2.29MB/s]\n",
      " 66%|██████▌   | 43.5M/66.2M [00:36<00:08, 2.62MB/s]\n",
      " 67%|██████▋   | 44.0M/66.2M [00:36<00:10, 2.19MB/s]\n",
      " 67%|██████▋   | 44.6M/66.2M [00:36<00:08, 2.51MB/s]\n",
      " 68%|██████▊   | 45.1M/66.2M [00:36<00:08, 2.62MB/s]\n",
      " 69%|██████▉   | 45.6M/66.2M [00:36<00:07, 2.67MB/s]\n",
      " 70%|██████▉   | 46.1M/66.2M [00:37<00:08, 2.43MB/s]\n",
      " 71%|███████▏  | 47.2M/66.2M [00:37<00:07, 2.56MB/s]\n",
      " 72%|███████▏  | 47.7M/66.2M [00:37<00:06, 2.72MB/s]\n",
      " 74%|███████▎  | 48.8M/66.2M [00:38<00:07, 2.37MB/s]\n",
      " 74%|███████▍  | 49.3M/66.2M [00:38<00:08, 1.93MB/s]\n",
      " 75%|███████▌  | 49.8M/66.2M [00:38<00:07, 2.17MB/s]\n",
      " 76%|███████▌  | 50.3M/66.2M [00:39<00:08, 1.77MB/s]\n",
      " 78%|███████▊  | 51.4M/66.2M [00:39<00:08, 1.83MB/s]\n",
      " 79%|███████▉  | 52.4M/66.2M [00:40<00:06, 2.11MB/s]\n",
      " 80%|███████▉  | 53.0M/66.2M [00:40<00:08, 1.65MB/s]\n",
      " 81%|████████  | 53.5M/66.2M [00:40<00:06, 1.82MB/s]\n",
      " 82%|████████▏ | 54.5M/66.2M [00:41<00:04, 2.45MB/s]\n",
      " 83%|████████▎ | 55.1M/66.2M [00:41<00:04, 2.27MB/s]\n",
      " 84%|████████▍ | 55.6M/66.2M [00:41<00:05, 2.12MB/s]\n",
      " 85%|████████▍ | 56.1M/66.2M [00:42<00:05, 1.79MB/s]\n",
      " 86%|████████▌ | 56.6M/66.2M [00:43<00:08, 1.07MB/s]\n",
      " 89%|████████▊ | 58.7M/66.2M [00:43<00:04, 1.84MB/s]\n",
      " 90%|█████████ | 59.8M/66.2M [00:44<00:03, 2.02MB/s]\n",
      " 91%|█████████ | 60.3M/66.2M [00:44<00:02, 2.24MB/s]\n",
      " 93%|█████████▎| 61.3M/66.2M [00:44<00:01, 2.60MB/s]\n",
      " 93%|█████████▎| 61.9M/66.2M [00:44<00:01, 2.52MB/s]\n",
      " 95%|█████████▌| 62.9M/66.2M [00:45<00:01, 2.63MB/s]\n",
      " 96%|█████████▌| 63.4M/66.2M [00:45<00:01, 2.70MB/s]\n",
      " 97%|█████████▋| 64.5M/66.2M [00:45<00:00, 2.35MB/s]\n",
      " 98%|█████████▊| 65.0M/66.2M [00:46<00:00, 2.39MB/s]\n",
      " 99%|█████████▉| 65.5M/66.2M [00:46<00:00, 2.61MB/s]\n",
      "100%|█████████▉| 66.1M/66.2M [00:46<00:00, 1.94MB/s]\n",
      "100%|██████████| 66.2M/66.2M [00:46<00:00, 1.42MB/s]\n"
     ]
    }
   ],
   "source": [
    "!gdown 1v36q7Efz0mprjAv4g6TkQM2YlDKdqOuy"
   ]
  },
  {
   "cell_type": "code",
   "execution_count": 52,
   "metadata": {},
   "outputs": [
    {
     "name": "stdout",
     "output_type": "stream",
     "text": [
      "(50000, 2)\n",
      "(49582, 2)\n"
     ]
    }
   ],
   "source": [
    "import pandas as pd\n",
    "\n",
    "df = pd.read_csv(\"./IMDB-Dataset.csv\")\n",
    "print(df.shape)\n",
    "\n",
    "# Remove duplicate rows\n",
    "df = df.drop_duplicates()\n",
    "print(df.shape)"
   ]
  },
  {
   "cell_type": "markdown",
   "metadata": {},
   "source": [
    "Xoá các thẻ html, cảm xúc, dấu câu, số,..."
   ]
  },
  {
   "cell_type": "code",
   "execution_count": 59,
   "metadata": {},
   "outputs": [
    {
     "name": "stderr",
     "output_type": "stream",
     "text": [
      "[nltk_data] Downloading package stopwords to\n",
      "[nltk_data]     C:\\Users\\vanna\\AppData\\Roaming\\nltk_data...\n",
      "[nltk_data]   Package stopwords is already up-to-date!\n",
      "[nltk_data] Downloading package wordnet to\n",
      "[nltk_data]     C:\\Users\\vanna\\AppData\\Roaming\\nltk_data...\n",
      "[nltk_data]   Package wordnet is already up-to-date!\n"
     ]
    },
    {
     "data": {
      "text/html": [
       "<div>\n",
       "<style scoped>\n",
       "    .dataframe tbody tr th:only-of-type {\n",
       "        vertical-align: middle;\n",
       "    }\n",
       "\n",
       "    .dataframe tbody tr th {\n",
       "        vertical-align: top;\n",
       "    }\n",
       "\n",
       "    .dataframe thead th {\n",
       "        text-align: right;\n",
       "    }\n",
       "</style>\n",
       "<table border=\"1\" class=\"dataframe\">\n",
       "  <thead>\n",
       "    <tr style=\"text-align: right;\">\n",
       "      <th></th>\n",
       "      <th>review</th>\n",
       "      <th>sentiment</th>\n",
       "    </tr>\n",
       "  </thead>\n",
       "  <tbody>\n",
       "    <tr>\n",
       "      <th>0</th>\n",
       "      <td>one reviewer mentioned watching oz episode hoo...</td>\n",
       "      <td>positive</td>\n",
       "    </tr>\n",
       "    <tr>\n",
       "      <th>1</th>\n",
       "      <td>wonderful little production filming technique ...</td>\n",
       "      <td>positive</td>\n",
       "    </tr>\n",
       "    <tr>\n",
       "      <th>2</th>\n",
       "      <td>thought wonderful way spend time hot summer we...</td>\n",
       "      <td>positive</td>\n",
       "    </tr>\n",
       "    <tr>\n",
       "      <th>3</th>\n",
       "      <td>basically family little boy jake think zombie ...</td>\n",
       "      <td>negative</td>\n",
       "    </tr>\n",
       "    <tr>\n",
       "      <th>4</th>\n",
       "      <td>petter matteis love time money visually stunni...</td>\n",
       "      <td>positive</td>\n",
       "    </tr>\n",
       "    <tr>\n",
       "      <th>...</th>\n",
       "      <td>...</td>\n",
       "      <td>...</td>\n",
       "    </tr>\n",
       "    <tr>\n",
       "      <th>49995</th>\n",
       "      <td>thought movie right good job creative original...</td>\n",
       "      <td>positive</td>\n",
       "    </tr>\n",
       "    <tr>\n",
       "      <th>49996</th>\n",
       "      <td>bad plot bad dialogue bad acting idiotic direc...</td>\n",
       "      <td>negative</td>\n",
       "    </tr>\n",
       "    <tr>\n",
       "      <th>49997</th>\n",
       "      <td>catholic taught parochial elementary school nu...</td>\n",
       "      <td>negative</td>\n",
       "    </tr>\n",
       "    <tr>\n",
       "      <th>49998</th>\n",
       "      <td>going disagree previous comment side maltin on...</td>\n",
       "      <td>negative</td>\n",
       "    </tr>\n",
       "    <tr>\n",
       "      <th>49999</th>\n",
       "      <td>one expects star trek movie high art fan expec...</td>\n",
       "      <td>negative</td>\n",
       "    </tr>\n",
       "  </tbody>\n",
       "</table>\n",
       "<p>49582 rows × 2 columns</p>\n",
       "</div>"
      ],
      "text/plain": [
       "                                                  review sentiment\n",
       "0      one reviewer mentioned watching oz episode hoo...  positive\n",
       "1      wonderful little production filming technique ...  positive\n",
       "2      thought wonderful way spend time hot summer we...  positive\n",
       "3      basically family little boy jake think zombie ...  negative\n",
       "4      petter matteis love time money visually stunni...  positive\n",
       "...                                                  ...       ...\n",
       "49995  thought movie right good job creative original...  positive\n",
       "49996  bad plot bad dialogue bad acting idiotic direc...  negative\n",
       "49997  catholic taught parochial elementary school nu...  negative\n",
       "49998  going disagree previous comment side maltin on...  negative\n",
       "49999  one expects star trek movie high art fan expec...  negative\n",
       "\n",
       "[49582 rows x 2 columns]"
      ]
     },
     "execution_count": 59,
     "metadata": {},
     "output_type": "execute_result"
    }
   ],
   "source": [
    "import re\n",
    "import string\n",
    "import nltk\n",
    "\n",
    "nltk.download(\"stopwords\")\n",
    "nltk.download(\"wordnet\")\n",
    "from nltk.corpus import stopwords\n",
    "from nltk.stem import WordNetLemmatizer\n",
    "from bs4 import BeautifulSoup\n",
    "import contractions\n",
    "\n",
    "stop = set(stopwords.words(\"english\"))\n",
    "\n",
    "\n",
    "# Expanding contractions\n",
    "def expand_contractions(text):\n",
    "    return contractions.fix(text)\n",
    "\n",
    "\n",
    "# Function to clean data\n",
    "def preprocess_text(text):\n",
    "    wl = WordNetLemmatizer()\n",
    "    # xoá thẻ html\n",
    "    soup = BeautifulSoup(text, \"html.parser\")\n",
    "    text = soup.get_text()\n",
    "\n",
    "    # Expanding chatwords and contracts clearing\n",
    "    text = expand_contractions(text)\n",
    "    contractions\n",
    "    emoji_clean = re.compile(\n",
    "        \"[\"\n",
    "        \"\\U0001F600-\\U0001F64F\"\n",
    "        \"\\U0001F300-\\U0001F5FF\"\n",
    "        \"\\U0001F680-\\U0001F6FF\"\n",
    "        \"\\U0001F1E0-\\U0001F1FF\"\n",
    "        \"\\U00002702-\\U000027B0\"\n",
    "        \"\\U000024C2-\\U0001F251\"\n",
    "        \"]+\",\n",
    "        flags=re.UNICODE,\n",
    "    )\n",
    "    text = emoji_clean.sub(r\" \", text)\n",
    "\n",
    "    # add space after full stop\n",
    "    text = re.sub(r\"\\.(?=\\S)\", \". \", text)\n",
    "\n",
    "    # remove urls\n",
    "    text = re.sub(r\"http\\S+\", \"\", text)\n",
    "\n",
    "    # remove punctuation and make text lowercase\n",
    "    text = \"\".join([word.lower() for word in text if word not in string.punctuation])\n",
    "\n",
    "    # lemmatize\n",
    "    text = \" \".join(\n",
    "        [\n",
    "            wl.lemmatize(word)\n",
    "            for word in text.split()\n",
    "            if word not in stop and word.isalpha()\n",
    "        ]\n",
    "    )\n",
    "    return text\n",
    "\n",
    "\n",
    "df[\"review\"] = df[\"review\"].apply(preprocess_text)\n",
    "df"
   ]
  },
  {
   "cell_type": "markdown",
   "metadata": {},
   "source": [
    "Phân tích dữ liệu"
   ]
  },
  {
   "cell_type": "code",
   "execution_count": 61,
   "metadata": {},
   "outputs": [
    {
     "data": {
      "image/png": "[encoded data removed]",
      "text/plain": [
       "<Figure size 1100x700 with 1 Axes>"
      ]
     },
     "metadata": {},
     "output_type": "display_data"
    }
   ],
   "source": [
    "import numpy as np\n",
    "import seaborn as sns\n",
    "import matplotlib.pyplot as plt\n",
    "\n",
    "\n",
    "# Creating autocpt arguments\n",
    "def func(pct, allvalues):\n",
    "    absolute = int(pct / 100.0 * np.sum(allvalues))\n",
    "    return \"{:.1f}%\\n({:d})\".format(pct, absolute)\n",
    "\n",
    "\n",
    "freq_pos = len(df[df[\"sentiment\"] == \"positive\"])\n",
    "freq_neg = len(df[df[\"sentiment\"] == \"negative\"])\n",
    "\n",
    "data = [freq_pos, freq_neg]\n",
    "\n",
    "labels = [\"positive\", \"negative\"]\n",
    "# Create pie chart\n",
    "pie, ax = plt.subplots(figsize=[11, 7])\n",
    "plt.pie(\n",
    "    x=data,\n",
    "    autopct=lambda pct: func(pct, data),\n",
    "    explode=[0.0025] * 2,\n",
    "    pctdistance=0.5,\n",
    "    colors=[sns.color_palette()[0], \"tab:red\"],\n",
    "    textprops={\"fontsize\": 16},\n",
    ")\n",
    "# plt . title ( ' Frequencies of sentiment labels ', fontsize =14 , fontweight = ' bold ')\n",
    "labels = [r\"Positive \", r\"Negative \"]\n",
    "plt.legend(labels, loc=\"best\", prop={\"size\": 14})\n",
    "pie.savefig(\" PieChart.png\")\n",
    "plt.show()"
   ]
  },
  {
   "cell_type": "markdown",
   "metadata": {},
   "source": [
    "Thống kê độ dài của các mẫu cho mỗi class."
   ]
  },
  {
   "cell_type": "code",
   "execution_count": 63,
   "metadata": {},
   "outputs": [
    {
     "data": {
      "text/html": [
       "<div>\n",
       "<style scoped>\n",
       "    .dataframe tbody tr th:only-of-type {\n",
       "        vertical-align: middle;\n",
       "    }\n",
       "\n",
       "    .dataframe tbody tr th {\n",
       "        vertical-align: top;\n",
       "    }\n",
       "\n",
       "    .dataframe thead th {\n",
       "        text-align: right;\n",
       "    }\n",
       "</style>\n",
       "<table border=\"1\" class=\"dataframe\">\n",
       "  <thead>\n",
       "    <tr style=\"text-align: right;\">\n",
       "      <th></th>\n",
       "      <th>review</th>\n",
       "      <th>sentiment</th>\n",
       "    </tr>\n",
       "  </thead>\n",
       "  <tbody>\n",
       "    <tr>\n",
       "      <th>0</th>\n",
       "      <td>one reviewer mentioned watching oz episode hoo...</td>\n",
       "      <td>positive</td>\n",
       "    </tr>\n",
       "    <tr>\n",
       "      <th>1</th>\n",
       "      <td>wonderful little production filming technique ...</td>\n",
       "      <td>positive</td>\n",
       "    </tr>\n",
       "    <tr>\n",
       "      <th>2</th>\n",
       "      <td>thought wonderful way spend time hot summer we...</td>\n",
       "      <td>positive</td>\n",
       "    </tr>\n",
       "    <tr>\n",
       "      <th>3</th>\n",
       "      <td>basically family little boy jake think zombie ...</td>\n",
       "      <td>negative</td>\n",
       "    </tr>\n",
       "    <tr>\n",
       "      <th>4</th>\n",
       "      <td>petter matteis love time money visually stunni...</td>\n",
       "      <td>positive</td>\n",
       "    </tr>\n",
       "    <tr>\n",
       "      <th>...</th>\n",
       "      <td>...</td>\n",
       "      <td>...</td>\n",
       "    </tr>\n",
       "    <tr>\n",
       "      <th>49995</th>\n",
       "      <td>thought movie right good job creative original...</td>\n",
       "      <td>positive</td>\n",
       "    </tr>\n",
       "    <tr>\n",
       "      <th>49996</th>\n",
       "      <td>bad plot bad dialogue bad acting idiotic direc...</td>\n",
       "      <td>negative</td>\n",
       "    </tr>\n",
       "    <tr>\n",
       "      <th>49997</th>\n",
       "      <td>catholic taught parochial elementary school nu...</td>\n",
       "      <td>negative</td>\n",
       "    </tr>\n",
       "    <tr>\n",
       "      <th>49998</th>\n",
       "      <td>going disagree previous comment side maltin on...</td>\n",
       "      <td>negative</td>\n",
       "    </tr>\n",
       "    <tr>\n",
       "      <th>49999</th>\n",
       "      <td>one expects star trek movie high art fan expec...</td>\n",
       "      <td>negative</td>\n",
       "    </tr>\n",
       "  </tbody>\n",
       "</table>\n",
       "<p>49582 rows × 2 columns</p>\n",
       "</div>"
      ],
      "text/plain": [
       "                                                  review sentiment\n",
       "0      one reviewer mentioned watching oz episode hoo...  positive\n",
       "1      wonderful little production filming technique ...  positive\n",
       "2      thought wonderful way spend time hot summer we...  positive\n",
       "3      basically family little boy jake think zombie ...  negative\n",
       "4      petter matteis love time money visually stunni...  positive\n",
       "...                                                  ...       ...\n",
       "49995  thought movie right good job creative original...  positive\n",
       "49996  bad plot bad dialogue bad acting idiotic direc...  negative\n",
       "49997  catholic taught parochial elementary school nu...  negative\n",
       "49998  going disagree previous comment side maltin on...  negative\n",
       "49999  one expects star trek movie high art fan expec...  negative\n",
       "\n",
       "[49582 rows x 2 columns]"
      ]
     },
     "execution_count": 63,
     "metadata": {},
     "output_type": "execute_result"
    }
   ],
   "source": [
    "words_len = df[\"review\"].str.split().map(lambda x: len(x))\n",
    "df_temp = df.copy()\n",
    "df_temp"
   ]
  },
  {
   "cell_type": "code",
   "execution_count": 64,
   "metadata": {},
   "outputs": [
    {
     "data": {
      "image/png": "[encoded data removed]",
      "text/plain": [
       "<Figure size 770x700 with 1 Axes>"
      ]
     },
     "metadata": {},
     "output_type": "display_data"
    },
    {
     "data": {
      "image/png": "[encoded data removed]",
      "text/plain": [
       "<Figure size 770x700 with 1 Axes>"
      ]
     },
     "metadata": {},
     "output_type": "display_data"
    },
    {
     "data": {
      "image/png": "[encoded data removed]",
      "text/plain": [
       "<Figure size 700x710 with 1 Axes>"
      ]
     },
     "metadata": {},
     "output_type": "display_data"
    }
   ],
   "source": [
    "df_temp[\"words length\"] = words_len\n",
    "\n",
    "hist_positive = sns.displot(\n",
    "    data=df_temp[df_temp[\"sentiment\"] == \"positive\"],\n",
    "    x=\"words length\",\n",
    "    hue=\"sentiment\",\n",
    "    kde=True,\n",
    "    height=7,\n",
    "    aspect=1.1,\n",
    "    legend=False,\n",
    ").set(title=\"Words in positive reviews\")\n",
    "plt.show(hist_positive)\n",
    "\n",
    "hist_negative = sns.displot(\n",
    "    data=df_temp[df_temp[\"sentiment\"] == \"negative\"],\n",
    "    x=\"words length\",\n",
    "    hue=\"sentiment\",\n",
    "    kde=True,\n",
    "    height=7,\n",
    "    aspect=1.1,\n",
    "    legend=False,\n",
    "    palette=[\"red\"],\n",
    ").set(title=\"Words in negative reviews\")\n",
    "plt.show(hist_negative)\n",
    "\n",
    "plt.figure(figsize=(7, 7.1))\n",
    "kernel_distibution_number_words_plot = sns.kdeplot(\n",
    "    data=df_temp,\n",
    "    x=\"words length\",\n",
    "    hue=\"sentiment\",\n",
    "    fill=True,\n",
    "    palette=[sns.color_palette()[0], \"red\"],\n",
    ").set(title=\"Words in reviews\")\n",
    "plt.legend(title=\"Sentiment\", labels=[\"negative\", \"positive\"])\n",
    "plt.show(kernel_distibution_number_words_plot)"
   ]
  },
  {
   "cell_type": "code",
   "execution_count": 65,
   "metadata": {},
   "outputs": [],
   "source": [
    "from collections import Counter\n",
    "\n",
    "words = ' '.join(df['review']).split()\n",
    "counter = Counter(words)\n",
    "most = counter.most_common()\n",
    "vocabs, word_counts = [], []\n",
    "for word, count in most:\n",
    "    if(word not in stop):\n",
    "        vocabs.append(word)\n",
    "        word_counts.append(count)"
   ]
  },
  {
   "cell_type": "code",
   "execution_count": 66,
   "metadata": {},
   "outputs": [
    {
     "data": {
      "text/html": [
       "<div>\n",
       "<style scoped>\n",
       "    .dataframe tbody tr th:only-of-type {\n",
       "        vertical-align: middle;\n",
       "    }\n",
       "\n",
       "    .dataframe tbody tr th {\n",
       "        vertical-align: top;\n",
       "    }\n",
       "\n",
       "    .dataframe thead th {\n",
       "        text-align: right;\n",
       "    }\n",
       "</style>\n",
       "<table border=\"1\" class=\"dataframe\">\n",
       "  <thead>\n",
       "    <tr style=\"text-align: right;\">\n",
       "      <th></th>\n",
       "      <th>word</th>\n",
       "      <th>word_count</th>\n",
       "    </tr>\n",
       "  </thead>\n",
       "  <tbody>\n",
       "    <tr>\n",
       "      <th>0</th>\n",
       "      <td>yosemitei</td>\n",
       "      <td>98190</td>\n",
       "    </tr>\n",
       "    <tr>\n",
       "      <th>1</th>\n",
       "      <td>yosemitei</td>\n",
       "      <td>89128</td>\n",
       "    </tr>\n",
       "    <tr>\n",
       "      <th>2</th>\n",
       "      <td>yosemitei</td>\n",
       "      <td>52247</td>\n",
       "    </tr>\n",
       "    <tr>\n",
       "      <th>3</th>\n",
       "      <td>yosemitei</td>\n",
       "      <td>39447</td>\n",
       "    </tr>\n",
       "    <tr>\n",
       "      <th>4</th>\n",
       "      <td>yosemitei</td>\n",
       "      <td>30833</td>\n",
       "    </tr>\n",
       "    <tr>\n",
       "      <th>...</th>\n",
       "      <td>...</td>\n",
       "      <td>...</td>\n",
       "    </tr>\n",
       "    <tr>\n",
       "      <th>200846</th>\n",
       "      <td>yosemitei</td>\n",
       "      <td>1</td>\n",
       "    </tr>\n",
       "    <tr>\n",
       "      <th>200847</th>\n",
       "      <td>yosemitei</td>\n",
       "      <td>1</td>\n",
       "    </tr>\n",
       "    <tr>\n",
       "      <th>200848</th>\n",
       "      <td>yosemitei</td>\n",
       "      <td>1</td>\n",
       "    </tr>\n",
       "    <tr>\n",
       "      <th>200849</th>\n",
       "      <td>yosemitei</td>\n",
       "      <td>1</td>\n",
       "    </tr>\n",
       "    <tr>\n",
       "      <th>200850</th>\n",
       "      <td>yosemitei</td>\n",
       "      <td>1</td>\n",
       "    </tr>\n",
       "  </tbody>\n",
       "</table>\n",
       "<p>200851 rows × 2 columns</p>\n",
       "</div>"
      ],
      "text/plain": [
       "             word  word_count\n",
       "0       yosemitei       98190\n",
       "1       yosemitei       89128\n",
       "2       yosemitei       52247\n",
       "3       yosemitei       39447\n",
       "4       yosemitei       30833\n",
       "...           ...         ...\n",
       "200846  yosemitei           1\n",
       "200847  yosemitei           1\n",
       "200848  yosemitei           1\n",
       "200849  yosemitei           1\n",
       "200850  yosemitei           1\n",
       "\n",
       "[200851 rows x 2 columns]"
      ]
     },
     "execution_count": 66,
     "metadata": {},
     "output_type": "execute_result"
    }
   ],
   "source": [
    "word_counts_df = pd.DataFrame({\n",
    "    'word': word,\n",
    "    'word_count': word_counts\n",
    "})\n",
    "word_counts_df"
   ]
  },
  {
   "cell_type": "markdown",
   "metadata": {},
   "source": [
    "Training data"
   ]
  },
  {
   "cell_type": "code",
   "execution_count": 67,
   "metadata": {},
   "outputs": [
    {
     "data": {
      "text/html": [
       "<div>\n",
       "<style scoped>\n",
       "    .dataframe tbody tr th:only-of-type {\n",
       "        vertical-align: middle;\n",
       "    }\n",
       "\n",
       "    .dataframe tbody tr th {\n",
       "        vertical-align: top;\n",
       "    }\n",
       "\n",
       "    .dataframe thead th {\n",
       "        text-align: right;\n",
       "    }\n",
       "</style>\n",
       "<table border=\"1\" class=\"dataframe\">\n",
       "  <thead>\n",
       "    <tr style=\"text-align: right;\">\n",
       "      <th></th>\n",
       "      <th>review</th>\n",
       "      <th>sentiment</th>\n",
       "    </tr>\n",
       "  </thead>\n",
       "  <tbody>\n",
       "    <tr>\n",
       "      <th>0</th>\n",
       "      <td>one reviewer mentioned watching oz episode hoo...</td>\n",
       "      <td>positive</td>\n",
       "    </tr>\n",
       "    <tr>\n",
       "      <th>1</th>\n",
       "      <td>wonderful little production filming technique ...</td>\n",
       "      <td>positive</td>\n",
       "    </tr>\n",
       "    <tr>\n",
       "      <th>2</th>\n",
       "      <td>thought wonderful way spend time hot summer we...</td>\n",
       "      <td>positive</td>\n",
       "    </tr>\n",
       "    <tr>\n",
       "      <th>3</th>\n",
       "      <td>basically family little boy jake think zombie ...</td>\n",
       "      <td>negative</td>\n",
       "    </tr>\n",
       "    <tr>\n",
       "      <th>4</th>\n",
       "      <td>petter matteis love time money visually stunni...</td>\n",
       "      <td>positive</td>\n",
       "    </tr>\n",
       "    <tr>\n",
       "      <th>...</th>\n",
       "      <td>...</td>\n",
       "      <td>...</td>\n",
       "    </tr>\n",
       "    <tr>\n",
       "      <th>49995</th>\n",
       "      <td>thought movie right good job creative original...</td>\n",
       "      <td>positive</td>\n",
       "    </tr>\n",
       "    <tr>\n",
       "      <th>49996</th>\n",
       "      <td>bad plot bad dialogue bad acting idiotic direc...</td>\n",
       "      <td>negative</td>\n",
       "    </tr>\n",
       "    <tr>\n",
       "      <th>49997</th>\n",
       "      <td>catholic taught parochial elementary school nu...</td>\n",
       "      <td>negative</td>\n",
       "    </tr>\n",
       "    <tr>\n",
       "      <th>49998</th>\n",
       "      <td>going disagree previous comment side maltin on...</td>\n",
       "      <td>negative</td>\n",
       "    </tr>\n",
       "    <tr>\n",
       "      <th>49999</th>\n",
       "      <td>one expects star trek movie high art fan expec...</td>\n",
       "      <td>negative</td>\n",
       "    </tr>\n",
       "  </tbody>\n",
       "</table>\n",
       "<p>49582 rows × 2 columns</p>\n",
       "</div>"
      ],
      "text/plain": [
       "                                                  review sentiment\n",
       "0      one reviewer mentioned watching oz episode hoo...  positive\n",
       "1      wonderful little production filming technique ...  positive\n",
       "2      thought wonderful way spend time hot summer we...  positive\n",
       "3      basically family little boy jake think zombie ...  negative\n",
       "4      petter matteis love time money visually stunni...  positive\n",
       "...                                                  ...       ...\n",
       "49995  thought movie right good job creative original...  positive\n",
       "49996  bad plot bad dialogue bad acting idiotic direc...  negative\n",
       "49997  catholic taught parochial elementary school nu...  negative\n",
       "49998  going disagree previous comment side maltin on...  negative\n",
       "49999  one expects star trek movie high art fan expec...  negative\n",
       "\n",
       "[49582 rows x 2 columns]"
      ]
     },
     "execution_count": 67,
     "metadata": {},
     "output_type": "execute_result"
    }
   ],
   "source": [
    "df"
   ]
  },
  {
   "cell_type": "markdown",
   "metadata": {},
   "source": [
    "Chia dữ liệu"
   ]
  },
  {
   "cell_type": "code",
   "execution_count": 68,
   "metadata": {},
   "outputs": [],
   "source": [
    "from sklearn.model_selection import train_test_split\n",
    "from sklearn.feature_extraction.text import TfidfVectorizer\n",
    "from sklearn.preprocessing import LabelEncoder\n",
    "\n",
    "label_encode = LabelEncoder()\n",
    "x_data = df[\"review\"]\n",
    "y_data = label_encode.fit_transform(df[\"sentiment\"])\n",
    "\n",
    "x_train, x_test, y_train, y_test = train_test_split(\n",
    "    x_data, y_data, test_size=0.2, random_state=42\n",
    ")"
   ]
  },
  {
   "cell_type": "markdown",
   "metadata": {},
   "source": [
    "Biểu diễn văn bản thành vector"
   ]
  },
  {
   "cell_type": "code",
   "execution_count": 69,
   "metadata": {},
   "outputs": [],
   "source": [
    "# x_train = [\"\" if pd.isnull(x) else str(x) for x in x_train]\n",
    "# x_test = [\"\" if pd.isnull(x) else str(x) for x in x_test]\n",
    "\n",
    "tfidf_vectorizer = TfidfVectorizer(max_features=10000, input=\"content\")\n",
    "tfidf_vectorizer.fit(x_train, y_train)\n",
    "\n",
    "x_train_encoded = tfidf_vectorizer.transform(x_train)\n",
    "x_test_encoded = tfidf_vectorizer.transform(x_test)"
   ]
  },
  {
   "cell_type": "markdown",
   "metadata": {},
   "source": [
    "Huấn luyện mô hình bằng DecisionTreeClassifier():"
   ]
  },
  {
   "cell_type": "code",
   "execution_count": 70,
   "metadata": {},
   "outputs": [
    {
     "data": {
      "text/plain": [
       "0.7075728546939599"
      ]
     },
     "execution_count": 70,
     "metadata": {},
     "output_type": "execute_result"
    }
   ],
   "source": [
    "from sklearn.tree import DecisionTreeClassifier\n",
    "from sklearn.ensemble import RandomForestClassifier\n",
    "from sklearn.metrics import accuracy_score\n",
    "\n",
    "dt_classifier = DecisionTreeClassifier(criterion=\"entropy\", random_state=42)\n",
    "dt_classifier.fit(x_train_encoded, y_train)\n",
    "y_pred = dt_classifier.predict(x_test_encoded)\n",
    "accuracy_score(y_pred, y_test)"
   ]
  },
  {
   "cell_type": "markdown",
   "metadata": {},
   "source": [
    "Huấn luyện bằng RandomForestClassifier()"
   ]
  },
  {
   "cell_type": "code",
   "execution_count": 71,
   "metadata": {},
   "outputs": [
    {
     "data": {
      "text/plain": [
       "0.8390642331350207"
      ]
     },
     "execution_count": 71,
     "metadata": {},
     "output_type": "execute_result"
    }
   ],
   "source": [
    "rf_classifier = RandomForestClassifier(random_state=42)\n",
    "rf_classifier.fit(x_train_encoded, y_train)\n",
    "y_pred = rf_classifier.predict(x_test_encoded)\n",
    "\n",
    "accuracy_score(y_pred, y_test)"
   ]
  },
  {
   "cell_type": "markdown",
   "metadata": {},
   "source": [
    "Huấn luyện bằng AdaBoostClassifier"
   ]
  },
  {
   "cell_type": "code",
   "execution_count": 72,
   "metadata": {},
   "outputs": [
    {
     "name": "stderr",
     "output_type": "stream",
     "text": [
      "c:\\Users\\vanna\\.conda\\envs\\.env\\Lib\\site-packages\\sklearn\\ensemble\\_weight_boosting.py:527: FutureWarning: The SAMME.R algorithm (the default) is deprecated and will be removed in 1.6. Use the SAMME algorithm to circumvent this warning.\n",
      "  warnings.warn(\n"
     ]
    },
    {
     "data": {
      "text/plain": [
       "0.7866290208732479"
      ]
     },
     "execution_count": 72,
     "metadata": {},
     "output_type": "execute_result"
    }
   ],
   "source": [
    "from sklearn.ensemble import AdaBoostClassifier\n",
    "\n",
    "rf_classifier = AdaBoostClassifier(random_state=42)\n",
    "rf_classifier.fit(x_train_encoded, y_train)\n",
    "y_pred = rf_classifier.predict(x_test_encoded)\n",
    "accuracy_score(y_pred, y_test)"
   ]
  },
  {
   "cell_type": "markdown",
   "metadata": {},
   "source": [
    "Huấn luyện bằng GradientBoostingClassifier"
   ]
  },
  {
   "cell_type": "code",
   "execution_count": 73,
   "metadata": {},
   "outputs": [
    {
     "name": "stderr",
     "output_type": "stream",
     "text": [
      "c:\\Users\\vanna\\.conda\\envs\\.env\\Lib\\site-packages\\sklearn\\ensemble\\_weight_boosting.py:527: FutureWarning: The SAMME.R algorithm (the default) is deprecated and will be removed in 1.6. Use the SAMME algorithm to circumvent this warning.\n",
      "  warnings.warn(\n"
     ]
    },
    {
     "data": {
      "text/plain": [
       "0.7866290208732479"
      ]
     },
     "execution_count": 73,
     "metadata": {},
     "output_type": "execute_result"
    }
   ],
   "source": [
    "from sklearn.ensemble import GradientBoostingClassifier\n",
    "\n",
    "rf_classifier = AdaBoostClassifier(random_state=42)\n",
    "rf_classifier.fit(x_train_encoded, y_train)\n",
    "y_pred = rf_classifier.predict(x_test_encoded)\n",
    "accuracy_score(y_pred, y_test)"
   ]
  },
  {
   "cell_type": "markdown",
   "metadata": {},
   "source": [
    "Huấn luyện bằng XGBClassifier"
   ]
  },
  {
   "cell_type": "code",
   "execution_count": 74,
   "metadata": {},
   "outputs": [
    {
     "data": {
      "text/plain": [
       "0.8440052435212262"
      ]
     },
     "execution_count": 74,
     "metadata": {},
     "output_type": "execute_result"
    }
   ],
   "source": [
    "from xgboost import XGBClassifier\n",
    "\n",
    "rf_classifier = XGBClassifier(random_state=42)\n",
    "rf_classifier.fit(x_train_encoded, y_train)\n",
    "y_pred = rf_classifier.predict(x_test_encoded)\n",
    "accuracy_score(y_pred, y_test)"
   ]
  }
 ],
 "metadata": {
  "kernelspec": {
   "display_name": ".env",
   "language": "python",
   "name": "python3"
  },
  "language_info": {
   "codemirror_mode": {
    "name": "ipython",
    "version": 3
   },
   "file_extension": ".py",
   "mimetype": "text/x-python",
   "name": "python",
   "nbconvert_exporter": "python",
   "pygments_lexer": "ipython3",
   "version": "3.12.1"
  }
 },
 "nbformat": 4,
 "nbformat_minor": 2
}
